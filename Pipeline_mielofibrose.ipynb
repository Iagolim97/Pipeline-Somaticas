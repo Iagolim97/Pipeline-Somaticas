{
  "nbformat": 4,
  "nbformat_minor": 0,
  "metadata": {
    "colab": {
      "provenance": [],
      "mount_file_id": "1S-naoPaWUVDxNRdqRpd_XfJGD2Vn19yo",
      "authorship_tag": "ABX9TyOOmgPW/UiJmDlx/S3Ng04u",
      "include_colab_link": true
    },
    "kernelspec": {
      "name": "python3",
      "display_name": "Python 3"
    },
    "language_info": {
      "name": "python"
    }
  },
  "cells": [
    {
      "cell_type": "markdown",
      "metadata": {
        "id": "view-in-github",
        "colab_type": "text"
      },
      "source": [
        "<a href=\"https://colab.research.google.com/github/Iagolim97/Pipeline-Somaticas/blob/main/Pipeline_mielofibrose.ipynb\" target=\"_parent\"><img src=\"https://colab.research.google.com/assets/colab-badge.svg\" alt=\"Open In Colab\"/></a>"
      ]
    },
    {
      "cell_type": "markdown",
      "source": [
        "# Preparação do ambiente e Instalaçao"
      ],
      "metadata": {
        "id": "XruNA5Y5RBGS"
      }
    },
    {
      "cell_type": "code",
      "execution_count": 3,
      "metadata": {
        "id": "faMV80_a4wFh"
      },
      "outputs": [],
      "source": [
        "%%bash\n",
        "rm -r /content/sample_data/"
      ]
    },
    {
      "cell_type": "code",
      "source": [
        "%%bash\n",
        "git clone --recurse-submodules https://github.com/samtools/htslib.git\n",
        "git clone https://github.com/samtools/bcftools.git\n",
        "cd bcftools\n",
        "make\n",
        "make install"
      ],
      "metadata": {
        "colab": {
          "base_uri": "https://localhost:8080/"
        },
        "id": "oBOgEFqZ-O0O",
        "outputId": "d36a3404-c24b-4821-da74-e70a82b4a2e9"
      },
      "execution_count": 4,
      "outputs": [
        {
          "output_type": "stream",
          "name": "stdout",
          "text": [
            "make: Nothing to be done for 'all'.\n",
            "mkdir -p -m 755 /usr/local/bin /usr/local/share/man/man1 /usr/local/libexec/bcftools\n",
            "install -p bcftools /usr/local/bin\n",
            "install -p misc/color-chrs.pl misc/gff2gff.py misc/guess-ploidy.py misc/plot-vcfstats misc/plot-roh.py misc/run-roh.pl misc/vcfutils.pl /usr/local/bin\n",
            "install -p -m 644 doc/bcftools.1 /usr/local/share/man/man1\n",
            "install -p plugins/*.so /usr/local/libexec/bcftools\n"
          ]
        },
        {
          "output_type": "stream",
          "name": "stderr",
          "text": [
            "fatal: destination path 'htslib' already exists and is not an empty directory.\n",
            "fatal: destination path 'bcftools' already exists and is not an empty directory.\n"
          ]
        }
      ]
    },
    {
      "cell_type": "code",
      "source": [
        "%%bash\n",
        "# Fonte: https://gist.github.com/mwufi/6718b30761cd109f9aff04c5144eb885\n",
        "pip install udocker\n",
        "udocker --allow-root install"
      ],
      "metadata": {
        "colab": {
          "base_uri": "https://localhost:8080/"
        },
        "id": "VCPqny3w-Q-Q",
        "outputId": "bf7d7120-5a95-4f41-8d54-895246e72351"
      },
      "execution_count": 5,
      "outputs": [
        {
          "output_type": "stream",
          "name": "stdout",
          "text": [
            "Requirement already satisfied: udocker in /usr/local/lib/python3.10/dist-packages (1.3.12)\n"
          ]
        }
      ]
    },
    {
      "cell_type": "code",
      "source": [
        "!udocker --allow-root pull ensemblorg/ensembl-vep"
      ],
      "metadata": {
        "colab": {
          "base_uri": "https://localhost:8080/"
        },
        "id": "fo9bVNPt-Stw",
        "outputId": "ddaa22ff-9b89-4d24-d5f1-94d1e3665336"
      },
      "execution_count": 6,
      "outputs": [
        {
          "output_type": "stream",
          "name": "stdout",
          "text": [
            "Info: downloading layer sha256:bbc0ef8e3990349759729c6439e276a69023526133292baefc05bd38dda7b8ac\n",
            "Info: downloading layer sha256:8bc5c83993b412ea3d583edefb73030185931c5f8e81c439b2e0f0d7f6b344b9\n",
            "Info: downloading layer sha256:e8acecbf179e1f26f9b1c9804fb986911c76c5b1abc64fd5b2be16f4ec5b1e6c\n",
            "Info: downloading layer sha256:5e78b02067b8c347b7f932855a8c3db456a6362c80b192018d9f235501467002\n",
            "Info: downloading layer sha256:8493d1ee52ddab4e83cbc9e5f50e20ab17addc545d4e6ace36cce7cd1393fef9\n",
            "Info: downloading layer sha256:4aa32993324f9b41a03fce325ad7dca365c276a9048805f5c7761a54a87eef6e\n",
            "Info: downloading layer sha256:6d9f1dacc169073a4f43367b8265e2ed2abc0429b900a42afe283c8a40a2a566\n",
            "Info: downloading layer sha256:4f4fb700ef54461cfa02571ae0db9a0dc1e0cdb5577484a6d75e68dc38e8acc1\n",
            "Info: downloading layer sha256:0ce17545d77feb9edee6216e7fcde90d829c36154145d868ac40f527f036ce4d\n",
            "Info: downloading layer sha256:54234443741031354a81ee75987674ec255c253e19cf805c532a3ab8d47044b0\n",
            "Info: downloading layer sha256:4f4fb700ef54461cfa02571ae0db9a0dc1e0cdb5577484a6d75e68dc38e8acc1\n",
            "Info: downloading layer sha256:d5e926bdb908525ecdcd096b72e36e271b914787812be306dbcf955c7e307bf5\n",
            "Info: downloading layer sha256:4f4fb700ef54461cfa02571ae0db9a0dc1e0cdb5577484a6d75e68dc38e8acc1\n",
            "Info: downloading layer sha256:8b3582947e2d927bb6100f5cb1786142f951b2e168d5bf2ca66927f9d115ef55\n",
            "Info: downloading layer sha256:4f4fb700ef54461cfa02571ae0db9a0dc1e0cdb5577484a6d75e68dc38e8acc1\n",
            "Info: downloading layer sha256:26bf158cab901ed0084b5dad50381a98813e8c528a8d8a356170a7adab0d1f63\n",
            "Info: downloading layer sha256:6b70daa3c7b488756004f547696282a146cab385199791de42b6a7c7c0345c85\n",
            "Info: downloading layer sha256:198bde5e6f99d3a3c0316f17b4d2553dd80cc62871d625c22c65f6adc942d3a6\n",
            "Info: downloading layer sha256:7c457f213c7634afb95a0fb2410a74b7b5bc0ba527033362c240c7a11bef4331\n"
          ]
        }
      ]
    },
    {
      "cell_type": "code",
      "source": [
        "#Parametros utilizados\n",
        "#-filter \"(MAX_AF <= 0.01 or not MAX_AF) and\n",
        "# (FILTER = PASS or not FILTER matches strand_bias,weak_evidence) and\n",
        "#  (SOMATIC matches 1 or (not SOMATIC and CLIN_SIG matches pathogenic)) and\n",
        "#  (not CLIN_SIG matches benign) and \\\n",
        "#  (not IMPACT matches LOW) and \\\n",
        "#  (Symbol in hpo/$HPO)\""
      ],
      "metadata": {
        "colab": {
          "base_uri": "https://localhost:8080/",
          "height": 140
        },
        "id": "SKhQkPyv-UJA",
        "outputId": "1664bc95-8b51-4c93-acc7-a526643c8225"
      },
      "execution_count": 7,
      "outputs": [
        {
          "output_type": "error",
          "ename": "IndentationError",
          "evalue": "unexpected indent (<ipython-input-7-ebbce7f91c69>, line 2)",
          "traceback": [
            "\u001b[0;36m  File \u001b[0;32m\"<ipython-input-7-ebbce7f91c69>\"\u001b[0;36m, line \u001b[0;32m2\u001b[0m\n\u001b[0;31m    -filter \"(MAX_AF <= 0.01 or not MAX_AF) and\u001b[0m\n\u001b[0m    ^\u001b[0m\n\u001b[0;31mIndentationError\u001b[0m\u001b[0;31m:\u001b[0m unexpected indent\n"
          ]
        }
      ]
    },
    {
      "cell_type": "markdown",
      "source": [
        "## FILTRAGEM"
      ],
      "metadata": {
        "id": "ztx0BEfPRD9f"
      }
    },
    {
      "cell_type": "code",
      "source": [
        "!sh vep_output/vep-gc.sh WP048 MyeloFibrosis.txt\n",
        "!sh vep_output/vep-gc.sh WP056 MyeloFibrosis.txt\n",
        "!sh vep_output/vep-gc.sh WP060 MyeloFibrosis.txt\n",
        "!sh vep_output/vep-gc.sh WP064 MyeloFibrosis.txt\n",
        "!sh vep_output/vep-gc.sh WP066 MyeloFibrosis.txt\n",
        "!sh vep_output/vep-gc.sh WP072 MyeloFibrosis.txt\n",
        "!sh vep_output/vep-gc.sh WP078 MyeloFibrosis.txt\n",
        "!sh vep_output/vep-gc.sh WP087 MyeloFibrosis.txt\n",
        "!sh vep_output/vep-gc.sh WP093 MyeloFibrosis.txt\n",
        "!sh vep_output/vep-gc.sh WP126 MyeloFibrosis.txt\n",
        "!sh vep_output/vep-gc.sh WP140 MyeloFibrosis.txt\n",
        "!sh vep_output/vep-gc.sh WP160 MyeloFibrosis.txt\n",
        "!sh vep_output/vep-gc.sh WP162 MyeloFibrosis.txt\n",
        "!sh vep_output/vep-gc.sh WP306 MyeloFibrosis.txt\n",
        "!sh vep_output/vep-gc.sh WP164 MyeloFibrosis.txt\n",
        "!sh vep_output/vep-gc.sh WP170 MyeloFibrosis.txt\n",
        "!sh vep_output/vep-gc.sh WP180 MyeloFibrosis.txt\n",
        "!sh vep_output/vep-gc.sh WP188 MyeloFibrosis.txt\n",
        "!sh vep_output/vep-gc.sh WP196 MyeloFibrosis.txt\n",
        "!sh vep_output/vep-gc.sh WP204 MyeloFibrosis.txt\n",
        "!sh vep_output/vep-gc.sh WP212 MyeloFibrosis.txt\n",
        "!sh vep_output/vep-gc.sh WP216 MyeloFibrosis.txt\n",
        "!sh vep_output/vep-gc.sh WP270 MyeloFibrosis.txt\n",
        "!sh vep_output/vep-gc.sh WP274 MyeloFibrosis.txt\n",
        "!sh vep_output/vep-gc.sh WP276 MyeloFibrosis.txt\n",
        "!sh vep_output/vep-gc.sh WP280 MyeloFibrosis.txt\n",
        "!sh vep_output/vep-gc.sh WP285 MyeloFibrosis.txt\n",
        "!sh vep_output/vep-gc.sh WP291 MyeloFibrosis.txt\n",
        "!sh vep_output/vep-gc.sh WP295 MyeloFibrosis.txt\n",
        "!sh vep_output/vep-gc.sh WP297 MyeloFibrosis.txt"
      ],
      "metadata": {
        "colab": {
          "base_uri": "https://localhost:8080/"
        },
        "id": "lMKVQPudAf1J",
        "outputId": "40945489-0060-423a-d01c-d51f66072a8c"
      },
      "execution_count": 18,
      "outputs": [
        {
          "output_type": "stream",
          "name": "stdout",
          "text": [
            "sh: 0: cannot open vep_output/vep-gc.sh: No such file\n",
            "sh: 0: cannot open vep_output/vep-gc.sh: No such file\n",
            "sh: 0: cannot open vep_output/vep-gc.sh: No such file\n",
            "sh: 0: cannot open vep_output/vep-gc.sh: No such file\n",
            "sh: 0: cannot open vep_output/vep-gc.sh: No such file\n",
            "sh: 0: cannot open vep_output/vep-gc.sh: No such file\n",
            "sh: 0: cannot open vep_output/vep-gc.sh: No such file\n",
            "sh: 0: cannot open vep_output/vep-gc.sh: No such file\n",
            "sh: 0: cannot open vep_output/vep-gc.sh: No such file\n",
            "sh: 0: cannot open vep_output/vep-gc.sh: No such file\n",
            "sh: 0: cannot open vep_output/vep-gc.sh: No such file\n",
            "sh: 0: cannot open vep_output/vep-gc.sh: No such file\n",
            "sh: 0: cannot open vep_output/vep-gc.sh: No such file\n",
            "sh: 0: cannot open vep_output/vep-gc.sh: No such file\n",
            "sh: 0: cannot open vep_output/vep-gc.sh: No such file\n",
            "sh: 0: cannot open vep_output/vep-gc.sh: No such file\n",
            "sh: 0: cannot open vep_output/vep-gc.sh: No such file\n",
            "sh: 0: cannot open vep_output/vep-gc.sh: No such file\n",
            "sh: 0: cannot open vep_output/vep-gc.sh: No such file\n",
            "sh: 0: cannot open vep_output/vep-gc.sh: No such file\n",
            "sh: 0: cannot open vep_output/vep-gc.sh: No such file\n",
            "sh: 0: cannot open vep_output/vep-gc.sh: No such file\n",
            "sh: 0: cannot open vep_output/vep-gc.sh: No such file\n",
            "sh: 0: cannot open vep_output/vep-gc.sh: No such file\n",
            "sh: 0: cannot open vep_output/vep-gc.sh: No such file\n",
            "sh: 0: cannot open vep_output/vep-gc.sh: No such file\n",
            "sh: 0: cannot open vep_output/vep-gc.sh: No such file\n",
            "sh: 0: cannot open vep_output/vep-gc.sh: No such file\n",
            "sh: 0: cannot open vep_output/vep-gc.sh: No such file\n",
            "sh: 0: cannot open vep_output/vep-gc.sh: No such file\n"
          ]
        }
      ]
    },
    {
      "cell_type": "markdown",
      "source": [
        "## QUANTIDADE DE VARIANTES"
      ],
      "metadata": {
        "id": "yXwL9LsGRir3"
      }
    },
    {
      "cell_type": "code",
      "source": [
        "mkdir -p /content/analises/ && mv /content/vep_output/vep_output/*.tsv /content/analises/"
      ],
      "metadata": {
        "id": "qsPFOSK0L2r3"
      },
      "execution_count": 9,
      "outputs": []
    },
    {
      "cell_type": "code",
      "source": [
        "%%bash\n",
        "\n",
        "diretorio_origem=\"/content/analises/\"\n",
        "find $diretorio_origem -name \"*WP*.tsv\" -print0 | sort -z | uniq -z | xargs -0 -I {} bash -c '\n",
        "    numero_arquivo=$(basename \"{}\" | awk -F\"[_.]\" \"{print tolower(\\$2)}\" | sed \"s/[^0-9]//g\")\n",
        "    linhas=$(($(wc -l < \"{}\") - 1))\n",
        "\n",
        "    if [ \"$numero_arquivo\" != \"\" ] && [ \"$numero_arquivo\" != \"allelelength\" ] && [ \"$numero_arquivo\" != \"tsv\" ]; then\n",
        "        if [ $linhas -gt 0 ]; then\n",
        "            echo \"A amostra WP$numero_arquivo tem $linhas variante(s)\"\n",
        "        else\n",
        "            echo \"A amostra WP$numero_arquivo tem 0 variante(s) - nenhuma variante passou pelo filtro\"\n",
        "        fi\n",
        "    fi\n",
        "'"
      ],
      "metadata": {
        "colab": {
          "base_uri": "https://localhost:8080/"
        },
        "id": "3jh4Q1DnMRV5",
        "outputId": "d3d8d5f1-939c-4429-8398-b04bff30fa5c"
      },
      "execution_count": 10,
      "outputs": [
        {
          "output_type": "stream",
          "name": "stdout",
          "text": [
            "A amostra WP048 tem 1 variante(s)\n",
            "A amostra WP056 tem 0 variante(s) - nenhuma variante passou pelo filtro\n",
            "A amostra WP060 tem 1 variante(s)\n",
            "A amostra WP064 tem 0 variante(s) - nenhuma variante passou pelo filtro\n",
            "A amostra WP066 tem 0 variante(s) - nenhuma variante passou pelo filtro\n",
            "A amostra WP072 tem 0 variante(s) - nenhuma variante passou pelo filtro\n",
            "A amostra WP078 tem 0 variante(s) - nenhuma variante passou pelo filtro\n",
            "A amostra WP087 tem 0 variante(s) - nenhuma variante passou pelo filtro\n",
            "A amostra WP093 tem 0 variante(s) - nenhuma variante passou pelo filtro\n",
            "A amostra WP126 tem 0 variante(s) - nenhuma variante passou pelo filtro\n",
            "A amostra WP140 tem 0 variante(s) - nenhuma variante passou pelo filtro\n",
            "A amostra WP160 tem 0 variante(s) - nenhuma variante passou pelo filtro\n",
            "A amostra WP162 tem 0 variante(s) - nenhuma variante passou pelo filtro\n",
            "A amostra WP164 tem 1 variante(s)\n",
            "A amostra WP170 tem 0 variante(s) - nenhuma variante passou pelo filtro\n",
            "A amostra WP180 tem 0 variante(s) - nenhuma variante passou pelo filtro\n",
            "A amostra WP188 tem 0 variante(s) - nenhuma variante passou pelo filtro\n",
            "A amostra WP196 tem 0 variante(s) - nenhuma variante passou pelo filtro\n",
            "A amostra WP204 tem 0 variante(s) - nenhuma variante passou pelo filtro\n",
            "A amostra WP212 tem 1 variante(s)\n",
            "A amostra WP216 tem 0 variante(s) - nenhuma variante passou pelo filtro\n",
            "A amostra WP270 tem 1 variante(s)\n",
            "A amostra WP274 tem 0 variante(s) - nenhuma variante passou pelo filtro\n",
            "A amostra WP276 tem 2 variante(s)\n",
            "A amostra WP280 tem 0 variante(s) - nenhuma variante passou pelo filtro\n",
            "A amostra WP285 tem 0 variante(s) - nenhuma variante passou pelo filtro\n",
            "A amostra WP291 tem 0 variante(s) - nenhuma variante passou pelo filtro\n",
            "A amostra WP295 tem 0 variante(s) - nenhuma variante passou pelo filtro\n",
            "A amostra WP297 tem 0 variante(s) - nenhuma variante passou pelo filtro\n",
            "A amostra WP306 tem 0 variante(s) - nenhuma variante passou pelo filtro\n"
          ]
        }
      ]
    },
    {
      "cell_type": "markdown",
      "source": [
        "### Preparação e realização das tabelas"
      ],
      "metadata": {
        "id": "4hmTst_SRqCa"
      }
    },
    {
      "cell_type": "code",
      "source": [
        "import pandas as pd\n",
        "pd.set_option('display.max_columns', None)\n",
        "df_WP048 = pd.read_csv('/content/analises/liftOver_WP048_hg19ToHg38.vep.filter.tsv', sep='\\t', index_col=False, engine='python')\n",
        "df_WP056 = pd.read_csv('/content/analises/liftOver_WP056_hg19ToHg38.vep.filter.tsv', sep='\\t', index_col=False, engine='python')\n",
        "df_WP060 = pd.read_csv('/content/analises/liftOver_WP060_hg19ToHg38.vep.filter.tsv', sep='\\t', index_col=False, engine='python')\n",
        "df_WP064 = pd.read_csv('/content/analises/liftOver_WP064_hg19ToHg38.vep.filter.tsv', sep='\\t', index_col=False, engine='python')\n",
        "df_WP066 = pd.read_csv('/content/analises/liftOver_WP066_hg19ToHg38.vep.filter.tsv', sep='\\t', index_col=False, engine='python')\n",
        "df_WP072 = pd.read_csv('/content/analises/liftOver_WP072_hg19ToHg38.vep.filter.tsv', sep='\\t', index_col=False, engine='python')\n",
        "df_WP078 = pd.read_csv('/content/analises/liftOver_WP078_hg19ToHg38.vep.filter.tsv', sep='\\t', index_col=False, engine='python')\n",
        "df_WP087 = pd.read_csv('/content/analises/liftOver_WP087_hg19ToHg38.vep.filter.tsv', sep='\\t', index_col=False, engine='python')\n",
        "df_WP093 = pd.read_csv('/content/analises/liftOver_WP093_hg19ToHg38.vep.filter.tsv', sep='\\t', index_col=False, engine='python')\n",
        "df_WP126 = pd.read_csv('/content/analises/liftOver_WP126_hg19ToHg38.vep.filter.tsv', sep='\\t', index_col=False, engine='python')\n",
        "df_WP140 = pd.read_csv('/content/analises/liftOver_WP140_hg19ToHg38.vep.filter.tsv', sep='\\t', index_col=False, engine='python')\n",
        "df_WP160 = pd.read_csv('/content/analises/liftOver_WP160_hg19ToHg38.vep.filter.tsv', sep='\\t', index_col=False, engine='python')\n",
        "df_WP162 = pd.read_csv('/content/analises/liftOver_WP162_hg19ToHg38.vep.filter.tsv', sep='\\t', index_col=False, engine='python')\n",
        "df_WP164 = pd.read_csv('/content/analises/liftOver_WP164_hg19ToHg38.vep.filter.tsv', sep='\\t', index_col=False, engine='python')\n",
        "df_WP170 = pd.read_csv('/content/analises/liftOver_WP170_hg19ToHg38.vep.filter.tsv', sep='\\t', index_col=False, engine='python')\n",
        "df_WP180 = pd.read_csv('/content/analises/liftOver_WP180_hg19ToHg38.vep.filter.tsv', sep='\\t', index_col=False, engine='python')\n",
        "df_WP188 = pd.read_csv('/content/analises/liftOver_WP188_hg19ToHg38.vep.filter.tsv', sep='\\t', index_col=False, engine='python')\n",
        "df_WP196 = pd.read_csv('/content/analises/liftOver_WP196_hg19ToHg38.vep.filter.tsv', sep='\\t', index_col=False, engine='python')\n",
        "df_WP204 = pd.read_csv('/content/analises/liftOver_WP204_hg19ToHg38.vep.filter.tsv', sep='\\t', index_col=False, engine='python')\n",
        "df_WP212 = pd.read_csv('/content/analises/liftOver_WP212_hg19ToHg38.vep.filter.tsv', sep='\\t', index_col=False, engine='python')\n",
        "df_WP216 = pd.read_csv('/content/analises/liftOver_WP216_hg19ToHg38.vep.filter.tsv', sep='\\t', index_col=False, engine='python')\n",
        "df_WP270 = pd.read_csv('/content/analises/liftOver_WP270_hg19ToHg38.vep.filter.tsv', sep='\\t', index_col=False, engine='python')\n",
        "df_WP274 = pd.read_csv('/content/analises/liftOver_WP274_hg19ToHg38.vep.filter.tsv', sep='\\t', index_col=False, engine='python')\n",
        "df_WP276 = pd.read_csv('/content/analises/liftOver_WP276_hg19ToHg38.vep.filter.tsv', sep='\\t', index_col=False, engine='python')\n",
        "df_WP280 = pd.read_csv('/content/analises/liftOver_WP280_hg19ToHg38.vep.filter.tsv', sep='\\t', index_col=False, engine='python')\n",
        "df_WP285 = pd.read_csv('/content/analises/liftOver_WP285_hg19ToHg38.vep.filter.tsv', sep='\\t', index_col=False, engine='python')\n",
        "df_WP291 = pd.read_csv('/content/analises/liftOver_WP291_hg19ToHg38.vep.filter.tsv', sep='\\t', index_col=False, engine='python')\n",
        "df_WP295 = pd.read_csv('/content/analises/liftOver_WP295_hg19ToHg38.vep.filter.tsv', sep='\\t', index_col=False, engine='python')\n",
        "df_WP297 = pd.read_csv('/content/analises/liftOver_WP297_hg19ToHg38.vep.filter.tsv', sep='\\t', index_col=False, engine='python')\n",
        "df_WP306 = pd.read_csv('/content/analises/liftOver_WP306_hg19ToHg38.vep.filter.tsv', sep='\\t', index_col=False, engine='python')"
      ],
      "metadata": {
        "id": "xd7EiU4jMqaC"
      },
      "execution_count": 11,
      "outputs": []
    },
    {
      "cell_type": "code",
      "source": [
        "import pandas as pd\n",
        "dataframes = [\n",
        "    df_WP048, df_WP056, df_WP060, df_WP064, df_WP066,\n",
        "    df_WP072, df_WP078, df_WP087, df_WP093, df_WP126,\n",
        "    df_WP140, df_WP160, df_WP162, df_WP164, df_WP170,\n",
        "    df_WP180, df_WP188, df_WP196, df_WP204, df_WP212,\n",
        "    df_WP216, df_WP270, df_WP274, df_WP276, df_WP280,\n",
        "    df_WP285, df_WP291, df_WP295, df_WP297, df_WP306\n",
        "]\n",
        "\n",
        "\n",
        "df_combined = pd.concat(dataframes, ignore_index=True)\n",
        "colunas_desejadas = ['TumorID','CHROM', 'MAX_AF', 'SYMBOL', 'Consequence', 'BIOTYPE', 'VARIANT_CLASS', 'SIFT', 'PolyPhen', 'IMPACT', 'CLIN_SIG', 'FILTER']\n",
        "df_combined_subset = df_combined[colunas_desejadas]\n",
        "pd.set_option('display.max_columns', None)\n",
        "pd.set_option('display.max_rows', None)\n",
        "pd.set_option('display.max_colwidth', None)\n",
        "display(df_combined_subset)\n",
        "df_combined_subset.to_csv('/content/analises/combined_data_subset.csv', index=False)"
      ],
      "metadata": {
        "colab": {
          "base_uri": "https://localhost:8080/",
          "height": 289
        },
        "id": "3GJK9PTlMxE-",
        "outputId": "22a6d9c8-c26e-4c25-9633-c418e5064007"
      },
      "execution_count": 12,
      "outputs": [
        {
          "output_type": "display_data",
          "data": {
            "text/plain": [
              "  TumorID  CHROM    MAX_AF SYMBOL       Consequence         BIOTYPE  \\\n",
              "0   WP048   chr1  0.000099   NRAS  missense_variant  protein_coding   \n",
              "1   WP060  chr17  0.000207  SRSF2  missense_variant  protein_coding   \n",
              "2   WP164  chr17  0.000024   TP53  missense_variant  protein_coding   \n",
              "3   WP212  chr17  0.000236  SRSF2  missense_variant  protein_coding   \n",
              "4   WP270  chr12         .   KRAS  missense_variant  protein_coding   \n",
              "5   WP276  chr17  0.000496   TP53  missense_variant  protein_coding   \n",
              "6   WP276  chr17  0.000066   TP53  missense_variant  protein_coding   \n",
              "\n",
              "  VARIANT_CLASS                            SIFT PolyPhen    IMPACT  \\\n",
              "0           SNV  tolerated_low_confidence(0.06)        .  MODERATE   \n",
              "1           SNV                 tolerated(0.17)        .  MODERATE   \n",
              "2           SNV                  deleterious(0)        .  MODERATE   \n",
              "3           SNV                  deleterious(0)        .  MODERATE   \n",
              "4           SNV   deleterious_low_confidence(0)        .  MODERATE   \n",
              "5           SNV                 tolerated(0.42)        .  MODERATE   \n",
              "6           SNV                  deleterious(0)        .  MODERATE   \n",
              "\n",
              "                                                    CLIN_SIG  \\\n",
              "0                               pathogenic&likely_pathogenic   \n",
              "1                                                          .   \n",
              "2  pathogenic/likely_pathogenic&pathogenic&likely_pathogenic   \n",
              "3                                                          .   \n",
              "4                                                 pathogenic   \n",
              "5                                     uncertain_significance   \n",
              "6                               likely_pathogenic&pathogenic   \n",
              "\n",
              "                                                FILTER  \n",
              "0                                                 PASS  \n",
              "1                                                 PASS  \n",
              "2                                                 PASS  \n",
              "3                                                 PASS  \n",
              "4                                                 PASS  \n",
              "5  base_qual;normal_artifact;strand_bias;weak_evidence  \n",
              "6                                                 PASS  "
            ],
            "text/html": [
              "\n",
              "  <div id=\"df-c3dd0594-7d9c-4ac3-84bb-a58ec49e6e28\" class=\"colab-df-container\">\n",
              "    <div>\n",
              "<style scoped>\n",
              "    .dataframe tbody tr th:only-of-type {\n",
              "        vertical-align: middle;\n",
              "    }\n",
              "\n",
              "    .dataframe tbody tr th {\n",
              "        vertical-align: top;\n",
              "    }\n",
              "\n",
              "    .dataframe thead th {\n",
              "        text-align: right;\n",
              "    }\n",
              "</style>\n",
              "<table border=\"1\" class=\"dataframe\">\n",
              "  <thead>\n",
              "    <tr style=\"text-align: right;\">\n",
              "      <th></th>\n",
              "      <th>TumorID</th>\n",
              "      <th>CHROM</th>\n",
              "      <th>MAX_AF</th>\n",
              "      <th>SYMBOL</th>\n",
              "      <th>Consequence</th>\n",
              "      <th>BIOTYPE</th>\n",
              "      <th>VARIANT_CLASS</th>\n",
              "      <th>SIFT</th>\n",
              "      <th>PolyPhen</th>\n",
              "      <th>IMPACT</th>\n",
              "      <th>CLIN_SIG</th>\n",
              "      <th>FILTER</th>\n",
              "    </tr>\n",
              "  </thead>\n",
              "  <tbody>\n",
              "    <tr>\n",
              "      <th>0</th>\n",
              "      <td>WP048</td>\n",
              "      <td>chr1</td>\n",
              "      <td>0.000099</td>\n",
              "      <td>NRAS</td>\n",
              "      <td>missense_variant</td>\n",
              "      <td>protein_coding</td>\n",
              "      <td>SNV</td>\n",
              "      <td>tolerated_low_confidence(0.06)</td>\n",
              "      <td>.</td>\n",
              "      <td>MODERATE</td>\n",
              "      <td>pathogenic&amp;likely_pathogenic</td>\n",
              "      <td>PASS</td>\n",
              "    </tr>\n",
              "    <tr>\n",
              "      <th>1</th>\n",
              "      <td>WP060</td>\n",
              "      <td>chr17</td>\n",
              "      <td>0.000207</td>\n",
              "      <td>SRSF2</td>\n",
              "      <td>missense_variant</td>\n",
              "      <td>protein_coding</td>\n",
              "      <td>SNV</td>\n",
              "      <td>tolerated(0.17)</td>\n",
              "      <td>.</td>\n",
              "      <td>MODERATE</td>\n",
              "      <td>.</td>\n",
              "      <td>PASS</td>\n",
              "    </tr>\n",
              "    <tr>\n",
              "      <th>2</th>\n",
              "      <td>WP164</td>\n",
              "      <td>chr17</td>\n",
              "      <td>0.000024</td>\n",
              "      <td>TP53</td>\n",
              "      <td>missense_variant</td>\n",
              "      <td>protein_coding</td>\n",
              "      <td>SNV</td>\n",
              "      <td>deleterious(0)</td>\n",
              "      <td>.</td>\n",
              "      <td>MODERATE</td>\n",
              "      <td>pathogenic/likely_pathogenic&amp;pathogenic&amp;likely_pathogenic</td>\n",
              "      <td>PASS</td>\n",
              "    </tr>\n",
              "    <tr>\n",
              "      <th>3</th>\n",
              "      <td>WP212</td>\n",
              "      <td>chr17</td>\n",
              "      <td>0.000236</td>\n",
              "      <td>SRSF2</td>\n",
              "      <td>missense_variant</td>\n",
              "      <td>protein_coding</td>\n",
              "      <td>SNV</td>\n",
              "      <td>deleterious(0)</td>\n",
              "      <td>.</td>\n",
              "      <td>MODERATE</td>\n",
              "      <td>.</td>\n",
              "      <td>PASS</td>\n",
              "    </tr>\n",
              "    <tr>\n",
              "      <th>4</th>\n",
              "      <td>WP270</td>\n",
              "      <td>chr12</td>\n",
              "      <td>.</td>\n",
              "      <td>KRAS</td>\n",
              "      <td>missense_variant</td>\n",
              "      <td>protein_coding</td>\n",
              "      <td>SNV</td>\n",
              "      <td>deleterious_low_confidence(0)</td>\n",
              "      <td>.</td>\n",
              "      <td>MODERATE</td>\n",
              "      <td>pathogenic</td>\n",
              "      <td>PASS</td>\n",
              "    </tr>\n",
              "    <tr>\n",
              "      <th>5</th>\n",
              "      <td>WP276</td>\n",
              "      <td>chr17</td>\n",
              "      <td>0.000496</td>\n",
              "      <td>TP53</td>\n",
              "      <td>missense_variant</td>\n",
              "      <td>protein_coding</td>\n",
              "      <td>SNV</td>\n",
              "      <td>tolerated(0.42)</td>\n",
              "      <td>.</td>\n",
              "      <td>MODERATE</td>\n",
              "      <td>uncertain_significance</td>\n",
              "      <td>base_qual;normal_artifact;strand_bias;weak_evidence</td>\n",
              "    </tr>\n",
              "    <tr>\n",
              "      <th>6</th>\n",
              "      <td>WP276</td>\n",
              "      <td>chr17</td>\n",
              "      <td>0.000066</td>\n",
              "      <td>TP53</td>\n",
              "      <td>missense_variant</td>\n",
              "      <td>protein_coding</td>\n",
              "      <td>SNV</td>\n",
              "      <td>deleterious(0)</td>\n",
              "      <td>.</td>\n",
              "      <td>MODERATE</td>\n",
              "      <td>likely_pathogenic&amp;pathogenic</td>\n",
              "      <td>PASS</td>\n",
              "    </tr>\n",
              "  </tbody>\n",
              "</table>\n",
              "</div>\n",
              "    <div class=\"colab-df-buttons\">\n",
              "\n",
              "  <div class=\"colab-df-container\">\n",
              "    <button class=\"colab-df-convert\" onclick=\"convertToInteractive('df-c3dd0594-7d9c-4ac3-84bb-a58ec49e6e28')\"\n",
              "            title=\"Convert this dataframe to an interactive table.\"\n",
              "            style=\"display:none;\">\n",
              "\n",
              "  <svg xmlns=\"http://www.w3.org/2000/svg\" height=\"24px\" viewBox=\"0 -960 960 960\">\n",
              "    <path d=\"M120-120v-720h720v720H120Zm60-500h600v-160H180v160Zm220 220h160v-160H400v160Zm0 220h160v-160H400v160ZM180-400h160v-160H180v160Zm440 0h160v-160H620v160ZM180-180h160v-160H180v160Zm440 0h160v-160H620v160Z\"/>\n",
              "  </svg>\n",
              "    </button>\n",
              "\n",
              "  <style>\n",
              "    .colab-df-container {\n",
              "      display:flex;\n",
              "      gap: 12px;\n",
              "    }\n",
              "\n",
              "    .colab-df-convert {\n",
              "      background-color: #E8F0FE;\n",
              "      border: none;\n",
              "      border-radius: 50%;\n",
              "      cursor: pointer;\n",
              "      display: none;\n",
              "      fill: #1967D2;\n",
              "      height: 32px;\n",
              "      padding: 0 0 0 0;\n",
              "      width: 32px;\n",
              "    }\n",
              "\n",
              "    .colab-df-convert:hover {\n",
              "      background-color: #E2EBFA;\n",
              "      box-shadow: 0px 1px 2px rgba(60, 64, 67, 0.3), 0px 1px 3px 1px rgba(60, 64, 67, 0.15);\n",
              "      fill: #174EA6;\n",
              "    }\n",
              "\n",
              "    .colab-df-buttons div {\n",
              "      margin-bottom: 4px;\n",
              "    }\n",
              "\n",
              "    [theme=dark] .colab-df-convert {\n",
              "      background-color: #3B4455;\n",
              "      fill: #D2E3FC;\n",
              "    }\n",
              "\n",
              "    [theme=dark] .colab-df-convert:hover {\n",
              "      background-color: #434B5C;\n",
              "      box-shadow: 0px 1px 3px 1px rgba(0, 0, 0, 0.15);\n",
              "      filter: drop-shadow(0px 1px 2px rgba(0, 0, 0, 0.3));\n",
              "      fill: #FFFFFF;\n",
              "    }\n",
              "  </style>\n",
              "\n",
              "    <script>\n",
              "      const buttonEl =\n",
              "        document.querySelector('#df-c3dd0594-7d9c-4ac3-84bb-a58ec49e6e28 button.colab-df-convert');\n",
              "      buttonEl.style.display =\n",
              "        google.colab.kernel.accessAllowed ? 'block' : 'none';\n",
              "\n",
              "      async function convertToInteractive(key) {\n",
              "        const element = document.querySelector('#df-c3dd0594-7d9c-4ac3-84bb-a58ec49e6e28');\n",
              "        const dataTable =\n",
              "          await google.colab.kernel.invokeFunction('convertToInteractive',\n",
              "                                                    [key], {});\n",
              "        if (!dataTable) return;\n",
              "\n",
              "        const docLinkHtml = 'Like what you see? Visit the ' +\n",
              "          '<a target=\"_blank\" href=https://colab.research.google.com/notebooks/data_table.ipynb>data table notebook</a>'\n",
              "          + ' to learn more about interactive tables.';\n",
              "        element.innerHTML = '';\n",
              "        dataTable['output_type'] = 'display_data';\n",
              "        await google.colab.output.renderOutput(dataTable, element);\n",
              "        const docLink = document.createElement('div');\n",
              "        docLink.innerHTML = docLinkHtml;\n",
              "        element.appendChild(docLink);\n",
              "      }\n",
              "    </script>\n",
              "  </div>\n",
              "\n",
              "\n",
              "<div id=\"df-207d1ef2-d40c-4411-a5d6-69faaea15956\">\n",
              "  <button class=\"colab-df-quickchart\" onclick=\"quickchart('df-207d1ef2-d40c-4411-a5d6-69faaea15956')\"\n",
              "            title=\"Suggest charts\"\n",
              "            style=\"display:none;\">\n",
              "\n",
              "<svg xmlns=\"http://www.w3.org/2000/svg\" height=\"24px\"viewBox=\"0 0 24 24\"\n",
              "     width=\"24px\">\n",
              "    <g>\n",
              "        <path d=\"M19 3H5c-1.1 0-2 .9-2 2v14c0 1.1.9 2 2 2h14c1.1 0 2-.9 2-2V5c0-1.1-.9-2-2-2zM9 17H7v-7h2v7zm4 0h-2V7h2v10zm4 0h-2v-4h2v4z\"/>\n",
              "    </g>\n",
              "</svg>\n",
              "  </button>\n",
              "\n",
              "<style>\n",
              "  .colab-df-quickchart {\n",
              "      --bg-color: #E8F0FE;\n",
              "      --fill-color: #1967D2;\n",
              "      --hover-bg-color: #E2EBFA;\n",
              "      --hover-fill-color: #174EA6;\n",
              "      --disabled-fill-color: #AAA;\n",
              "      --disabled-bg-color: #DDD;\n",
              "  }\n",
              "\n",
              "  [theme=dark] .colab-df-quickchart {\n",
              "      --bg-color: #3B4455;\n",
              "      --fill-color: #D2E3FC;\n",
              "      --hover-bg-color: #434B5C;\n",
              "      --hover-fill-color: #FFFFFF;\n",
              "      --disabled-bg-color: #3B4455;\n",
              "      --disabled-fill-color: #666;\n",
              "  }\n",
              "\n",
              "  .colab-df-quickchart {\n",
              "    background-color: var(--bg-color);\n",
              "    border: none;\n",
              "    border-radius: 50%;\n",
              "    cursor: pointer;\n",
              "    display: none;\n",
              "    fill: var(--fill-color);\n",
              "    height: 32px;\n",
              "    padding: 0;\n",
              "    width: 32px;\n",
              "  }\n",
              "\n",
              "  .colab-df-quickchart:hover {\n",
              "    background-color: var(--hover-bg-color);\n",
              "    box-shadow: 0 1px 2px rgba(60, 64, 67, 0.3), 0 1px 3px 1px rgba(60, 64, 67, 0.15);\n",
              "    fill: var(--button-hover-fill-color);\n",
              "  }\n",
              "\n",
              "  .colab-df-quickchart-complete:disabled,\n",
              "  .colab-df-quickchart-complete:disabled:hover {\n",
              "    background-color: var(--disabled-bg-color);\n",
              "    fill: var(--disabled-fill-color);\n",
              "    box-shadow: none;\n",
              "  }\n",
              "\n",
              "  .colab-df-spinner {\n",
              "    border: 2px solid var(--fill-color);\n",
              "    border-color: transparent;\n",
              "    border-bottom-color: var(--fill-color);\n",
              "    animation:\n",
              "      spin 1s steps(1) infinite;\n",
              "  }\n",
              "\n",
              "  @keyframes spin {\n",
              "    0% {\n",
              "      border-color: transparent;\n",
              "      border-bottom-color: var(--fill-color);\n",
              "      border-left-color: var(--fill-color);\n",
              "    }\n",
              "    20% {\n",
              "      border-color: transparent;\n",
              "      border-left-color: var(--fill-color);\n",
              "      border-top-color: var(--fill-color);\n",
              "    }\n",
              "    30% {\n",
              "      border-color: transparent;\n",
              "      border-left-color: var(--fill-color);\n",
              "      border-top-color: var(--fill-color);\n",
              "      border-right-color: var(--fill-color);\n",
              "    }\n",
              "    40% {\n",
              "      border-color: transparent;\n",
              "      border-right-color: var(--fill-color);\n",
              "      border-top-color: var(--fill-color);\n",
              "    }\n",
              "    60% {\n",
              "      border-color: transparent;\n",
              "      border-right-color: var(--fill-color);\n",
              "    }\n",
              "    80% {\n",
              "      border-color: transparent;\n",
              "      border-right-color: var(--fill-color);\n",
              "      border-bottom-color: var(--fill-color);\n",
              "    }\n",
              "    90% {\n",
              "      border-color: transparent;\n",
              "      border-bottom-color: var(--fill-color);\n",
              "    }\n",
              "  }\n",
              "</style>\n",
              "\n",
              "  <script>\n",
              "    async function quickchart(key) {\n",
              "      const quickchartButtonEl =\n",
              "        document.querySelector('#' + key + ' button');\n",
              "      quickchartButtonEl.disabled = true;  // To prevent multiple clicks.\n",
              "      quickchartButtonEl.classList.add('colab-df-spinner');\n",
              "      try {\n",
              "        const charts = await google.colab.kernel.invokeFunction(\n",
              "            'suggestCharts', [key], {});\n",
              "      } catch (error) {\n",
              "        console.error('Error during call to suggestCharts:', error);\n",
              "      }\n",
              "      quickchartButtonEl.classList.remove('colab-df-spinner');\n",
              "      quickchartButtonEl.classList.add('colab-df-quickchart-complete');\n",
              "    }\n",
              "    (() => {\n",
              "      let quickchartButtonEl =\n",
              "        document.querySelector('#df-207d1ef2-d40c-4411-a5d6-69faaea15956 button');\n",
              "      quickchartButtonEl.style.display =\n",
              "        google.colab.kernel.accessAllowed ? 'block' : 'none';\n",
              "    })();\n",
              "  </script>\n",
              "</div>\n",
              "\n",
              "  <div id=\"id_6259d8db-837b-4f79-8014-84f43c5f8746\">\n",
              "    <style>\n",
              "      .colab-df-generate {\n",
              "        background-color: #E8F0FE;\n",
              "        border: none;\n",
              "        border-radius: 50%;\n",
              "        cursor: pointer;\n",
              "        display: none;\n",
              "        fill: #1967D2;\n",
              "        height: 32px;\n",
              "        padding: 0 0 0 0;\n",
              "        width: 32px;\n",
              "      }\n",
              "\n",
              "      .colab-df-generate:hover {\n",
              "        background-color: #E2EBFA;\n",
              "        box-shadow: 0px 1px 2px rgba(60, 64, 67, 0.3), 0px 1px 3px 1px rgba(60, 64, 67, 0.15);\n",
              "        fill: #174EA6;\n",
              "      }\n",
              "\n",
              "      [theme=dark] .colab-df-generate {\n",
              "        background-color: #3B4455;\n",
              "        fill: #D2E3FC;\n",
              "      }\n",
              "\n",
              "      [theme=dark] .colab-df-generate:hover {\n",
              "        background-color: #434B5C;\n",
              "        box-shadow: 0px 1px 3px 1px rgba(0, 0, 0, 0.15);\n",
              "        filter: drop-shadow(0px 1px 2px rgba(0, 0, 0, 0.3));\n",
              "        fill: #FFFFFF;\n",
              "      }\n",
              "    </style>\n",
              "    <button class=\"colab-df-generate\" onclick=\"generateWithVariable('df_combined_subset')\"\n",
              "            title=\"Generate code using this dataframe.\"\n",
              "            style=\"display:none;\">\n",
              "\n",
              "  <svg xmlns=\"http://www.w3.org/2000/svg\" height=\"24px\"viewBox=\"0 0 24 24\"\n",
              "       width=\"24px\">\n",
              "    <path d=\"M7,19H8.4L18.45,9,17,7.55,7,17.6ZM5,21V16.75L18.45,3.32a2,2,0,0,1,2.83,0l1.4,1.43a1.91,1.91,0,0,1,.58,1.4,1.91,1.91,0,0,1-.58,1.4L9.25,21ZM18.45,9,17,7.55Zm-12,3A5.31,5.31,0,0,0,4.9,8.1,5.31,5.31,0,0,0,1,6.5,5.31,5.31,0,0,0,4.9,4.9,5.31,5.31,0,0,0,6.5,1,5.31,5.31,0,0,0,8.1,4.9,5.31,5.31,0,0,0,12,6.5,5.46,5.46,0,0,0,6.5,12Z\"/>\n",
              "  </svg>\n",
              "    </button>\n",
              "    <script>\n",
              "      (() => {\n",
              "      const buttonEl =\n",
              "        document.querySelector('#id_6259d8db-837b-4f79-8014-84f43c5f8746 button.colab-df-generate');\n",
              "      buttonEl.style.display =\n",
              "        google.colab.kernel.accessAllowed ? 'block' : 'none';\n",
              "\n",
              "      buttonEl.onclick = () => {\n",
              "        google.colab.notebook.generateWithVariable('df_combined_subset');\n",
              "      }\n",
              "      })();\n",
              "    </script>\n",
              "  </div>\n",
              "\n",
              "    </div>\n",
              "  </div>\n"
            ]
          },
          "metadata": {}
        }
      ]
    },
    {
      "cell_type": "markdown",
      "source": [
        "## Consequência"
      ],
      "metadata": {
        "id": "DtRnAWp5RzyF"
      }
    },
    {
      "cell_type": "code",
      "source": [
        "import pandas as pd\n",
        "from IPython.display import display, HTML\n",
        "df = pd.read_csv('/content/analises/combined_data_subset.csv')\n",
        "count_df = df['Consequence'].value_counts()\n",
        "result = pd.DataFrame(count_df, columns=['Consequence'])\n",
        "display(HTML(result.to_html()))"
      ],
      "metadata": {
        "colab": {
          "base_uri": "https://localhost:8080/",
          "height": 81
        },
        "id": "l6HKjCNwMz5n",
        "outputId": "f51865a6-f438-4ed2-bc77-afc953767c97"
      },
      "execution_count": 13,
      "outputs": [
        {
          "output_type": "display_data",
          "data": {
            "text/plain": [
              "<IPython.core.display.HTML object>"
            ],
            "text/html": [
              "<table border=\"1\" class=\"dataframe\">\n",
              "  <thead>\n",
              "    <tr style=\"text-align: right;\">\n",
              "      <th></th>\n",
              "      <th>Consequence</th>\n",
              "    </tr>\n",
              "  </thead>\n",
              "  <tbody>\n",
              "    <tr>\n",
              "      <th>missense_variant</th>\n",
              "      <td>7</td>\n",
              "    </tr>\n",
              "  </tbody>\n",
              "</table>"
            ]
          },
          "metadata": {}
        }
      ]
    },
    {
      "cell_type": "markdown",
      "source": [
        "### Genes"
      ],
      "metadata": {
        "id": "DjQnuCH4R20T"
      }
    },
    {
      "cell_type": "code",
      "source": [
        "import pandas as pd\n",
        "from IPython.display import display, HTML\n",
        "df = pd.read_csv('/content/analises/combined_data_subset.csv')\n",
        "count_df = df['SYMBOL'].value_counts()\n",
        "result = pd.DataFrame(count_df, columns=['SYMBOL'])\n",
        "display(HTML(result.to_html()))"
      ],
      "metadata": {
        "colab": {
          "base_uri": "https://localhost:8080/",
          "height": 175
        },
        "id": "6Zb62ZUpM86d",
        "outputId": "601bbecd-518d-4ce2-9952-bd6dc07ffb38"
      },
      "execution_count": 14,
      "outputs": [
        {
          "output_type": "display_data",
          "data": {
            "text/plain": [
              "<IPython.core.display.HTML object>"
            ],
            "text/html": [
              "<table border=\"1\" class=\"dataframe\">\n",
              "  <thead>\n",
              "    <tr style=\"text-align: right;\">\n",
              "      <th></th>\n",
              "      <th>SYMBOL</th>\n",
              "    </tr>\n",
              "  </thead>\n",
              "  <tbody>\n",
              "    <tr>\n",
              "      <th>TP53</th>\n",
              "      <td>3</td>\n",
              "    </tr>\n",
              "    <tr>\n",
              "      <th>SRSF2</th>\n",
              "      <td>2</td>\n",
              "    </tr>\n",
              "    <tr>\n",
              "      <th>NRAS</th>\n",
              "      <td>1</td>\n",
              "    </tr>\n",
              "    <tr>\n",
              "      <th>KRAS</th>\n",
              "      <td>1</td>\n",
              "    </tr>\n",
              "  </tbody>\n",
              "</table>"
            ]
          },
          "metadata": {}
        }
      ]
    },
    {
      "cell_type": "markdown",
      "source": [
        "### Biotipo"
      ],
      "metadata": {
        "id": "SenEsSGBR8h1"
      }
    },
    {
      "cell_type": "code",
      "source": [
        "import pandas as pd\n",
        "from IPython.display import display, HTML\n",
        "df = pd.read_csv('/content/analises/combined_data_subset.csv')\n",
        "count_df = df['BIOTYPE'].value_counts()\n",
        "result = pd.DataFrame(count_df, columns=['BIOTYPE'])\n",
        "display(HTML(result.to_html()))"
      ],
      "metadata": {
        "colab": {
          "base_uri": "https://localhost:8080/",
          "height": 81
        },
        "id": "1mQ27aXrM_gj",
        "outputId": "2e58376d-79c7-4c8c-e053-377c862c4b02"
      },
      "execution_count": 15,
      "outputs": [
        {
          "output_type": "display_data",
          "data": {
            "text/plain": [
              "<IPython.core.display.HTML object>"
            ],
            "text/html": [
              "<table border=\"1\" class=\"dataframe\">\n",
              "  <thead>\n",
              "    <tr style=\"text-align: right;\">\n",
              "      <th></th>\n",
              "      <th>BIOTYPE</th>\n",
              "    </tr>\n",
              "  </thead>\n",
              "  <tbody>\n",
              "    <tr>\n",
              "      <th>protein_coding</th>\n",
              "      <td>7</td>\n",
              "    </tr>\n",
              "  </tbody>\n",
              "</table>"
            ]
          },
          "metadata": {}
        }
      ]
    },
    {
      "cell_type": "markdown",
      "source": [
        "### Impacto"
      ],
      "metadata": {
        "id": "tmesNWI5R_My"
      }
    },
    {
      "cell_type": "code",
      "source": [
        "import pandas as pd\n",
        "from IPython.display import display, HTML\n",
        "df = pd.read_csv('/content/analises/combined_data_subset.csv')\n",
        "count_df = df['IMPACT'].value_counts()\n",
        "result = pd.DataFrame(count_df, columns=['IMPACT'])\n",
        "display(HTML(result.to_html()))"
      ],
      "metadata": {
        "colab": {
          "base_uri": "https://localhost:8080/",
          "height": 81
        },
        "id": "y1d-fLpJNCxK",
        "outputId": "e68d60b2-fddf-4355-ad0e-0b8d16580f7c"
      },
      "execution_count": 16,
      "outputs": [
        {
          "output_type": "display_data",
          "data": {
            "text/plain": [
              "<IPython.core.display.HTML object>"
            ],
            "text/html": [
              "<table border=\"1\" class=\"dataframe\">\n",
              "  <thead>\n",
              "    <tr style=\"text-align: right;\">\n",
              "      <th></th>\n",
              "      <th>IMPACT</th>\n",
              "    </tr>\n",
              "  </thead>\n",
              "  <tbody>\n",
              "    <tr>\n",
              "      <th>MODERATE</th>\n",
              "      <td>7</td>\n",
              "    </tr>\n",
              "  </tbody>\n",
              "</table>"
            ]
          },
          "metadata": {}
        }
      ]
    },
    {
      "cell_type": "markdown",
      "source": [
        "### Impacto x Consequencia x Genes x CLIN_SIG"
      ],
      "metadata": {
        "id": "8AllblLvSCNY"
      }
    },
    {
      "cell_type": "code",
      "source": [
        "import pandas as pd\n",
        "from IPython.display import display, HTML\n",
        "\n",
        "\n",
        "df = pd.read_csv('/content/analises/combined_data_subset.csv')\n",
        "\n",
        "\n",
        "grouped_data = df.groupby(['IMPACT', 'Consequence', 'SYMBOL', 'CLIN_SIG'])['TumorID'].unique().reset_index(name='Amostras')\n",
        "grouped_data[''] = df.groupby(['IMPACT', 'Consequence', 'SYMBOL', 'CLIN_SIG']).size().values\n",
        "\n",
        "\n",
        "def format_clin_sig(group):\n",
        "    return '<br>'.join(set('&'.join(group).split('&')))\n",
        "\n",
        "\n",
        "grouped_data['CLIN_SIG'] = df.groupby(['IMPACT', 'Consequence', 'SYMBOL', 'CLIN_SIG'])['CLIN_SIG'].apply(format_clin_sig).reset_index(drop=True)\n",
        "grouped_data['Consequence'] = df.groupby(['IMPACT', 'Consequence', 'SYMBOL', 'CLIN_SIG'])['Consequence'].apply(format_clin_sig).reset_index(drop=True)\n",
        "\n",
        "\n",
        "display(HTML(grouped_data.to_html(index=False, escape=False)))"
      ],
      "metadata": {
        "colab": {
          "base_uri": "https://localhost:8080/",
          "height": 307
        },
        "id": "htKzROgaNGCS",
        "outputId": "59ec6175-5d31-4553-aa63-77bdde418be5"
      },
      "execution_count": 17,
      "outputs": [
        {
          "output_type": "display_data",
          "data": {
            "text/plain": [
              "<IPython.core.display.HTML object>"
            ],
            "text/html": [
              "<table border=\"1\" class=\"dataframe\">\n",
              "  <thead>\n",
              "    <tr style=\"text-align: right;\">\n",
              "      <th>IMPACT</th>\n",
              "      <th>Consequence</th>\n",
              "      <th>SYMBOL</th>\n",
              "      <th>CLIN_SIG</th>\n",
              "      <th>Amostras</th>\n",
              "      <th></th>\n",
              "    </tr>\n",
              "  </thead>\n",
              "  <tbody>\n",
              "    <tr>\n",
              "      <td>MODERATE</td>\n",
              "      <td>missense_variant</td>\n",
              "      <td>KRAS</td>\n",
              "      <td>pathogenic</td>\n",
              "      <td>[WP270]</td>\n",
              "      <td>1</td>\n",
              "    </tr>\n",
              "    <tr>\n",
              "      <td>MODERATE</td>\n",
              "      <td>missense_variant</td>\n",
              "      <td>NRAS</td>\n",
              "      <td>pathogenic<br>likely_pathogenic</td>\n",
              "      <td>[WP048]</td>\n",
              "      <td>1</td>\n",
              "    </tr>\n",
              "    <tr>\n",
              "      <td>MODERATE</td>\n",
              "      <td>missense_variant</td>\n",
              "      <td>SRSF2</td>\n",
              "      <td>.</td>\n",
              "      <td>[WP060, WP212]</td>\n",
              "      <td>2</td>\n",
              "    </tr>\n",
              "    <tr>\n",
              "      <td>MODERATE</td>\n",
              "      <td>missense_variant</td>\n",
              "      <td>TP53</td>\n",
              "      <td>pathogenic<br>likely_pathogenic</td>\n",
              "      <td>[WP276]</td>\n",
              "      <td>1</td>\n",
              "    </tr>\n",
              "    <tr>\n",
              "      <td>MODERATE</td>\n",
              "      <td>missense_variant</td>\n",
              "      <td>TP53</td>\n",
              "      <td>pathogenic/likely_pathogenic<br>pathogenic<br>likely_pathogenic</td>\n",
              "      <td>[WP164]</td>\n",
              "      <td>1</td>\n",
              "    </tr>\n",
              "    <tr>\n",
              "      <td>MODERATE</td>\n",
              "      <td>missense_variant</td>\n",
              "      <td>TP53</td>\n",
              "      <td>uncertain_significance</td>\n",
              "      <td>[WP276]</td>\n",
              "      <td>1</td>\n",
              "    </tr>\n",
              "  </tbody>\n",
              "</table>"
            ]
          },
          "metadata": {}
        }
      ]
    }
  ]
}